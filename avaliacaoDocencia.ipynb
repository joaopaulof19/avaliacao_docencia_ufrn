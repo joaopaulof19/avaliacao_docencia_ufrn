{
 "cells": [
  {
   "cell_type": "code",
   "execution_count": 1,
   "id": "265d9527",
   "metadata": {},
   "outputs": [],
   "source": [
    "# \"/home/joao/Downloads/residencia/Disciplinas/Analise Estatística/atv1/avaliacaodocencia.csv\""
   ]
  },
  {
   "cell_type": "code",
   "execution_count": 2,
   "id": "a8e53db5",
   "metadata": {},
   "outputs": [],
   "source": [
    "import pandas as pd\n",
    "\n",
    "import statistics as st\n",
    "\n",
    "import matplotlib.pyplot as plt\n",
    "\n",
    "import numpy as np"
   ]
  },
  {
   "cell_type": "code",
   "execution_count": 3,
   "id": "2892877c",
   "metadata": {},
   "outputs": [],
   "source": [
    "dados = pd.read_csv(\"/home/joao/Downloads/residencia/Disciplinas/Analise Estatística/atv1/avaliacaodocencia.csv\", sep=\";\", encoding='ISO-8859-1')"
   ]
  },
  {
   "cell_type": "code",
   "execution_count": 4,
   "id": "4350828d",
   "metadata": {},
   "outputs": [
    {
     "data": {
      "text/html": [
       "<div>\n",
       "<style scoped>\n",
       "    .dataframe tbody tr th:only-of-type {\n",
       "        vertical-align: middle;\n",
       "    }\n",
       "\n",
       "    .dataframe tbody tr th {\n",
       "        vertical-align: top;\n",
       "    }\n",
       "\n",
       "    .dataframe thead th {\n",
       "        text-align: right;\n",
       "    }\n",
       "</style>\n",
       "<table border=\"1\" class=\"dataframe\">\n",
       "  <thead>\n",
       "    <tr style=\"text-align: right;\">\n",
       "      <th></th>\n",
       "      <th>id_docente</th>\n",
       "      <th>nome_docente</th>\n",
       "      <th>id_turma</th>\n",
       "      <th>ano</th>\n",
       "      <th>periodo</th>\n",
       "      <th>qtd_discentes</th>\n",
       "      <th>postura_profissional_media</th>\n",
       "      <th>postura_profissional_DP</th>\n",
       "      <th>atuacao_profissional_media</th>\n",
       "      <th>atuacao_profissional_DP</th>\n",
       "      <th>autoavaliacao_aluno_media</th>\n",
       "      <th>autoavaliacao_aluno_DP</th>\n",
       "    </tr>\n",
       "  </thead>\n",
       "  <tbody>\n",
       "    <tr>\n",
       "      <th>0</th>\n",
       "      <td>15370</td>\n",
       "      <td>FERNANDO MOREIRA DA SILVA</td>\n",
       "      <td>1209923</td>\n",
       "      <td>2013</td>\n",
       "      <td>2</td>\n",
       "      <td>14</td>\n",
       "      <td>9.17</td>\n",
       "      <td>1.34</td>\n",
       "      <td>8.13</td>\n",
       "      <td>2.70</td>\n",
       "      <td>7.61</td>\n",
       "      <td>2.53</td>\n",
       "    </tr>\n",
       "    <tr>\n",
       "      <th>1</th>\n",
       "      <td>15370</td>\n",
       "      <td>FERNANDO MOREIRA DA SILVA</td>\n",
       "      <td>1222008</td>\n",
       "      <td>2014</td>\n",
       "      <td>1</td>\n",
       "      <td>15</td>\n",
       "      <td>9.44</td>\n",
       "      <td>0.92</td>\n",
       "      <td>7.17</td>\n",
       "      <td>3.08</td>\n",
       "      <td>8.71</td>\n",
       "      <td>1.72</td>\n",
       "    </tr>\n",
       "    <tr>\n",
       "      <th>2</th>\n",
       "      <td>15370</td>\n",
       "      <td>FERNANDO MOREIRA DA SILVA</td>\n",
       "      <td>1222218</td>\n",
       "      <td>2014</td>\n",
       "      <td>1</td>\n",
       "      <td>38</td>\n",
       "      <td>9.19</td>\n",
       "      <td>1.67</td>\n",
       "      <td>6.77</td>\n",
       "      <td>3.29</td>\n",
       "      <td>8.12</td>\n",
       "      <td>2.53</td>\n",
       "    </tr>\n",
       "    <tr>\n",
       "      <th>3</th>\n",
       "      <td>15370</td>\n",
       "      <td>FERNANDO MOREIRA DA SILVA</td>\n",
       "      <td>1229520</td>\n",
       "      <td>2014</td>\n",
       "      <td>2</td>\n",
       "      <td>13</td>\n",
       "      <td>9.06</td>\n",
       "      <td>1.16</td>\n",
       "      <td>7.68</td>\n",
       "      <td>2.51</td>\n",
       "      <td>7.62</td>\n",
       "      <td>2.77</td>\n",
       "    </tr>\n",
       "    <tr>\n",
       "      <th>4</th>\n",
       "      <td>15370</td>\n",
       "      <td>FERNANDO MOREIRA DA SILVA</td>\n",
       "      <td>1229545</td>\n",
       "      <td>2014</td>\n",
       "      <td>2</td>\n",
       "      <td>24</td>\n",
       "      <td>9.27</td>\n",
       "      <td>1.28</td>\n",
       "      <td>8.45</td>\n",
       "      <td>1.72</td>\n",
       "      <td>8.48</td>\n",
       "      <td>1.86</td>\n",
       "    </tr>\n",
       "  </tbody>\n",
       "</table>\n",
       "</div>"
      ],
      "text/plain": [
       "   id_docente               nome_docente  id_turma   ano  periodo  \\\n",
       "0       15370  FERNANDO MOREIRA DA SILVA   1209923  2013        2   \n",
       "1       15370  FERNANDO MOREIRA DA SILVA   1222008  2014        1   \n",
       "2       15370  FERNANDO MOREIRA DA SILVA   1222218  2014        1   \n",
       "3       15370  FERNANDO MOREIRA DA SILVA   1229520  2014        2   \n",
       "4       15370  FERNANDO MOREIRA DA SILVA   1229545  2014        2   \n",
       "\n",
       "   qtd_discentes  postura_profissional_media  postura_profissional_DP  \\\n",
       "0             14                        9.17                     1.34   \n",
       "1             15                        9.44                     0.92   \n",
       "2             38                        9.19                     1.67   \n",
       "3             13                        9.06                     1.16   \n",
       "4             24                        9.27                     1.28   \n",
       "\n",
       "   atuacao_profissional_media  atuacao_profissional_DP  \\\n",
       "0                        8.13                     2.70   \n",
       "1                        7.17                     3.08   \n",
       "2                        6.77                     3.29   \n",
       "3                        7.68                     2.51   \n",
       "4                        8.45                     1.72   \n",
       "\n",
       "   autoavaliacao_aluno_media  autoavaliacao_aluno_DP  \n",
       "0                       7.61                    2.53  \n",
       "1                       8.71                    1.72  \n",
       "2                       8.12                    2.53  \n",
       "3                       7.62                    2.77  \n",
       "4                       8.48                    1.86  "
      ]
     },
     "execution_count": 4,
     "metadata": {},
     "output_type": "execute_result"
    }
   ],
   "source": [
    "dados.head()"
   ]
  },
  {
   "cell_type": "code",
   "execution_count": 5,
   "id": "c9ef99b2",
   "metadata": {},
   "outputs": [],
   "source": [
    "media = st.mean(dados.atuacao_profissional_media)"
   ]
  },
  {
   "cell_type": "code",
   "execution_count": 6,
   "id": "d142c42b",
   "metadata": {},
   "outputs": [],
   "source": [
    "desvio_padrao = st.stdev(dados.atuacao_profissional_media)"
   ]
  },
  {
   "cell_type": "code",
   "execution_count": 7,
   "id": "ae3fcb35",
   "metadata": {},
   "outputs": [
    {
     "name": "stdout",
     "output_type": "stream",
     "text": [
      "9.146738688874219 0.7543927254524383\n"
     ]
    }
   ],
   "source": [
    "print(media, desvio_padrao)"
   ]
  },
  {
   "cell_type": "code",
   "execution_count": 8,
   "id": "a775f7b6",
   "metadata": {},
   "outputs": [
    {
     "data": {
      "text/plain": [
       "1.3311812149833273"
      ]
     },
     "execution_count": 8,
     "metadata": {},
     "output_type": "execute_result"
    }
   ],
   "source": [
    "st.mean(dados.atuacao_profissional_DP)"
   ]
  },
  {
   "cell_type": "code",
   "execution_count": 9,
   "id": "18f77fe2",
   "metadata": {},
   "outputs": [
    {
     "data": {
      "text/html": [
       "<div>\n",
       "<style scoped>\n",
       "    .dataframe tbody tr th:only-of-type {\n",
       "        vertical-align: middle;\n",
       "    }\n",
       "\n",
       "    .dataframe tbody tr th {\n",
       "        vertical-align: top;\n",
       "    }\n",
       "\n",
       "    .dataframe thead th {\n",
       "        text-align: right;\n",
       "    }\n",
       "</style>\n",
       "<table border=\"1\" class=\"dataframe\">\n",
       "  <thead>\n",
       "    <tr style=\"text-align: right;\">\n",
       "      <th></th>\n",
       "      <th>id_docente</th>\n",
       "      <th>nome_docente</th>\n",
       "      <th>id_turma</th>\n",
       "      <th>ano</th>\n",
       "      <th>periodo</th>\n",
       "      <th>qtd_discentes</th>\n",
       "      <th>postura_profissional_media</th>\n",
       "      <th>postura_profissional_DP</th>\n",
       "      <th>atuacao_profissional_media</th>\n",
       "      <th>atuacao_profissional_DP</th>\n",
       "      <th>autoavaliacao_aluno_media</th>\n",
       "      <th>autoavaliacao_aluno_DP</th>\n",
       "    </tr>\n",
       "  </thead>\n",
       "  <tbody>\n",
       "    <tr>\n",
       "      <th>0</th>\n",
       "      <td>15370</td>\n",
       "      <td>FERNANDO MOREIRA DA SILVA</td>\n",
       "      <td>1209923</td>\n",
       "      <td>2013</td>\n",
       "      <td>2</td>\n",
       "      <td>14</td>\n",
       "      <td>9.17</td>\n",
       "      <td>1.34</td>\n",
       "      <td>8.13</td>\n",
       "      <td>2.70</td>\n",
       "      <td>7.61</td>\n",
       "      <td>2.53</td>\n",
       "    </tr>\n",
       "    <tr>\n",
       "      <th>1</th>\n",
       "      <td>15370</td>\n",
       "      <td>FERNANDO MOREIRA DA SILVA</td>\n",
       "      <td>1222008</td>\n",
       "      <td>2014</td>\n",
       "      <td>1</td>\n",
       "      <td>15</td>\n",
       "      <td>9.44</td>\n",
       "      <td>0.92</td>\n",
       "      <td>7.17</td>\n",
       "      <td>3.08</td>\n",
       "      <td>8.71</td>\n",
       "      <td>1.72</td>\n",
       "    </tr>\n",
       "    <tr>\n",
       "      <th>2</th>\n",
       "      <td>15370</td>\n",
       "      <td>FERNANDO MOREIRA DA SILVA</td>\n",
       "      <td>1222218</td>\n",
       "      <td>2014</td>\n",
       "      <td>1</td>\n",
       "      <td>38</td>\n",
       "      <td>9.19</td>\n",
       "      <td>1.67</td>\n",
       "      <td>6.77</td>\n",
       "      <td>3.29</td>\n",
       "      <td>8.12</td>\n",
       "      <td>2.53</td>\n",
       "    </tr>\n",
       "    <tr>\n",
       "      <th>3</th>\n",
       "      <td>15370</td>\n",
       "      <td>FERNANDO MOREIRA DA SILVA</td>\n",
       "      <td>1229520</td>\n",
       "      <td>2014</td>\n",
       "      <td>2</td>\n",
       "      <td>13</td>\n",
       "      <td>9.06</td>\n",
       "      <td>1.16</td>\n",
       "      <td>7.68</td>\n",
       "      <td>2.51</td>\n",
       "      <td>7.62</td>\n",
       "      <td>2.77</td>\n",
       "    </tr>\n",
       "    <tr>\n",
       "      <th>4</th>\n",
       "      <td>15370</td>\n",
       "      <td>FERNANDO MOREIRA DA SILVA</td>\n",
       "      <td>1229545</td>\n",
       "      <td>2014</td>\n",
       "      <td>2</td>\n",
       "      <td>24</td>\n",
       "      <td>9.27</td>\n",
       "      <td>1.28</td>\n",
       "      <td>8.45</td>\n",
       "      <td>1.72</td>\n",
       "      <td>8.48</td>\n",
       "      <td>1.86</td>\n",
       "    </tr>\n",
       "    <tr>\n",
       "      <th>...</th>\n",
       "      <td>...</td>\n",
       "      <td>...</td>\n",
       "      <td>...</td>\n",
       "      <td>...</td>\n",
       "      <td>...</td>\n",
       "      <td>...</td>\n",
       "      <td>...</td>\n",
       "      <td>...</td>\n",
       "      <td>...</td>\n",
       "      <td>...</td>\n",
       "      <td>...</td>\n",
       "      <td>...</td>\n",
       "    </tr>\n",
       "    <tr>\n",
       "      <th>118153</th>\n",
       "      <td>5762088</td>\n",
       "      <td>JESSICA LIMA DE MORAIS</td>\n",
       "      <td>57675839</td>\n",
       "      <td>2021</td>\n",
       "      <td>1</td>\n",
       "      <td>7</td>\n",
       "      <td>9.97</td>\n",
       "      <td>0.17</td>\n",
       "      <td>9.59</td>\n",
       "      <td>1.06</td>\n",
       "      <td>NaN</td>\n",
       "      <td>NaN</td>\n",
       "    </tr>\n",
       "    <tr>\n",
       "      <th>118154</th>\n",
       "      <td>5762088</td>\n",
       "      <td>JESSICA LIMA DE MORAIS</td>\n",
       "      <td>57675840</td>\n",
       "      <td>2021</td>\n",
       "      <td>1</td>\n",
       "      <td>7</td>\n",
       "      <td>8.48</td>\n",
       "      <td>2.10</td>\n",
       "      <td>8.52</td>\n",
       "      <td>1.95</td>\n",
       "      <td>NaN</td>\n",
       "      <td>NaN</td>\n",
       "    </tr>\n",
       "    <tr>\n",
       "      <th>118155</th>\n",
       "      <td>5762088</td>\n",
       "      <td>JESSICA LIMA DE MORAIS</td>\n",
       "      <td>57675841</td>\n",
       "      <td>2021</td>\n",
       "      <td>1</td>\n",
       "      <td>7</td>\n",
       "      <td>8.37</td>\n",
       "      <td>2.07</td>\n",
       "      <td>8.28</td>\n",
       "      <td>2.08</td>\n",
       "      <td>NaN</td>\n",
       "      <td>NaN</td>\n",
       "    </tr>\n",
       "    <tr>\n",
       "      <th>118156</th>\n",
       "      <td>5762088</td>\n",
       "      <td>JESSICA LIMA DE MORAIS</td>\n",
       "      <td>57675842</td>\n",
       "      <td>2021</td>\n",
       "      <td>1</td>\n",
       "      <td>8</td>\n",
       "      <td>9.88</td>\n",
       "      <td>0.33</td>\n",
       "      <td>9.60</td>\n",
       "      <td>0.76</td>\n",
       "      <td>NaN</td>\n",
       "      <td>NaN</td>\n",
       "    </tr>\n",
       "    <tr>\n",
       "      <th>118157</th>\n",
       "      <td>5762088</td>\n",
       "      <td>JESSICA LIMA DE MORAIS</td>\n",
       "      <td>57675843</td>\n",
       "      <td>2021</td>\n",
       "      <td>1</td>\n",
       "      <td>7</td>\n",
       "      <td>9.63</td>\n",
       "      <td>0.64</td>\n",
       "      <td>9.19</td>\n",
       "      <td>1.01</td>\n",
       "      <td>NaN</td>\n",
       "      <td>NaN</td>\n",
       "    </tr>\n",
       "  </tbody>\n",
       "</table>\n",
       "<p>118158 rows × 12 columns</p>\n",
       "</div>"
      ],
      "text/plain": [
       "        id_docente               nome_docente  id_turma   ano  periodo  \\\n",
       "0            15370  FERNANDO MOREIRA DA SILVA   1209923  2013        2   \n",
       "1            15370  FERNANDO MOREIRA DA SILVA   1222008  2014        1   \n",
       "2            15370  FERNANDO MOREIRA DA SILVA   1222218  2014        1   \n",
       "3            15370  FERNANDO MOREIRA DA SILVA   1229520  2014        2   \n",
       "4            15370  FERNANDO MOREIRA DA SILVA   1229545  2014        2   \n",
       "...            ...                        ...       ...   ...      ...   \n",
       "118153     5762088     JESSICA LIMA DE MORAIS  57675839  2021        1   \n",
       "118154     5762088     JESSICA LIMA DE MORAIS  57675840  2021        1   \n",
       "118155     5762088     JESSICA LIMA DE MORAIS  57675841  2021        1   \n",
       "118156     5762088     JESSICA LIMA DE MORAIS  57675842  2021        1   \n",
       "118157     5762088     JESSICA LIMA DE MORAIS  57675843  2021        1   \n",
       "\n",
       "        qtd_discentes  postura_profissional_media  postura_profissional_DP  \\\n",
       "0                  14                        9.17                     1.34   \n",
       "1                  15                        9.44                     0.92   \n",
       "2                  38                        9.19                     1.67   \n",
       "3                  13                        9.06                     1.16   \n",
       "4                  24                        9.27                     1.28   \n",
       "...               ...                         ...                      ...   \n",
       "118153              7                        9.97                     0.17   \n",
       "118154              7                        8.48                     2.10   \n",
       "118155              7                        8.37                     2.07   \n",
       "118156              8                        9.88                     0.33   \n",
       "118157              7                        9.63                     0.64   \n",
       "\n",
       "        atuacao_profissional_media  atuacao_profissional_DP  \\\n",
       "0                             8.13                     2.70   \n",
       "1                             7.17                     3.08   \n",
       "2                             6.77                     3.29   \n",
       "3                             7.68                     2.51   \n",
       "4                             8.45                     1.72   \n",
       "...                            ...                      ...   \n",
       "118153                        9.59                     1.06   \n",
       "118154                        8.52                     1.95   \n",
       "118155                        8.28                     2.08   \n",
       "118156                        9.60                     0.76   \n",
       "118157                        9.19                     1.01   \n",
       "\n",
       "        autoavaliacao_aluno_media  autoavaliacao_aluno_DP  \n",
       "0                            7.61                    2.53  \n",
       "1                            8.71                    1.72  \n",
       "2                            8.12                    2.53  \n",
       "3                            7.62                    2.77  \n",
       "4                            8.48                    1.86  \n",
       "...                           ...                     ...  \n",
       "118153                        NaN                     NaN  \n",
       "118154                        NaN                     NaN  \n",
       "118155                        NaN                     NaN  \n",
       "118156                        NaN                     NaN  \n",
       "118157                        NaN                     NaN  \n",
       "\n",
       "[118158 rows x 12 columns]"
      ]
     },
     "execution_count": 9,
     "metadata": {},
     "output_type": "execute_result"
    }
   ],
   "source": [
    "dados"
   ]
  },
  {
   "cell_type": "code",
   "execution_count": 10,
   "id": "533b548b",
   "metadata": {},
   "outputs": [],
   "source": [
    "sup = media + 2*desvio_padrao\n",
    "inf = media - 2*desvio_padrao"
   ]
  },
  {
   "cell_type": "code",
   "execution_count": 11,
   "id": "c3556ddd",
   "metadata": {},
   "outputs": [
    {
     "name": "stdout",
     "output_type": "stream",
     "text": [
      "10.655524139779097\n",
      "7.6379532379693424\n"
     ]
    }
   ],
   "source": [
    "print(sup)\n",
    "print(inf)"
   ]
  },
  {
   "cell_type": "code",
   "execution_count": 12,
   "id": "34b9e443",
   "metadata": {},
   "outputs": [
    {
     "data": {
      "text/plain": [
       "0.5"
      ]
     },
     "execution_count": 12,
     "metadata": {},
     "output_type": "execute_result"
    }
   ],
   "source": [
    "dados.atuacao_profissional_media.min()"
   ]
  },
  {
   "cell_type": "code",
   "execution_count": 13,
   "id": "04f1e1c4",
   "metadata": {},
   "outputs": [
    {
     "data": {
      "text/plain": [
       "10.0"
      ]
     },
     "execution_count": 13,
     "metadata": {},
     "output_type": "execute_result"
    }
   ],
   "source": [
    "dados.atuacao_profissional_media.max()"
   ]
  },
  {
   "cell_type": "code",
   "execution_count": 14,
   "id": "2fbea2b2",
   "metadata": {},
   "outputs": [],
   "source": [
    "# df = pd.read_csv('pizza.csv', usecols=['foo', 'bar'])\n",
    "\n",
    "dados1 = pd.read_csv(\"/home/joao/Downloads/residencia/Disciplinas/Analise Estatística/atv1/avaliacaodocencia.csv\", sep=\";\", encoding='ISO-8859-1', usecols=['qtd_discentes', 'postura_profissional_media', 'atuacao_profissional_media','autoavaliacao_aluno_media' ])"
   ]
  },
  {
   "cell_type": "code",
   "execution_count": 15,
   "id": "1a70d624",
   "metadata": {},
   "outputs": [
    {
     "data": {
      "text/html": [
       "<div>\n",
       "<style scoped>\n",
       "    .dataframe tbody tr th:only-of-type {\n",
       "        vertical-align: middle;\n",
       "    }\n",
       "\n",
       "    .dataframe tbody tr th {\n",
       "        vertical-align: top;\n",
       "    }\n",
       "\n",
       "    .dataframe thead th {\n",
       "        text-align: right;\n",
       "    }\n",
       "</style>\n",
       "<table border=\"1\" class=\"dataframe\">\n",
       "  <thead>\n",
       "    <tr style=\"text-align: right;\">\n",
       "      <th></th>\n",
       "      <th>qtd_discentes</th>\n",
       "      <th>postura_profissional_media</th>\n",
       "      <th>atuacao_profissional_media</th>\n",
       "      <th>autoavaliacao_aluno_media</th>\n",
       "    </tr>\n",
       "  </thead>\n",
       "  <tbody>\n",
       "    <tr>\n",
       "      <th>count</th>\n",
       "      <td>118158.000000</td>\n",
       "      <td>118158.000000</td>\n",
       "      <td>118158.000000</td>\n",
       "      <td>102783.000000</td>\n",
       "    </tr>\n",
       "    <tr>\n",
       "      <th>mean</th>\n",
       "      <td>22.174495</td>\n",
       "      <td>9.452506</td>\n",
       "      <td>9.146739</td>\n",
       "      <td>9.083089</td>\n",
       "    </tr>\n",
       "    <tr>\n",
       "      <th>std</th>\n",
       "      <td>17.003041</td>\n",
       "      <td>0.682489</td>\n",
       "      <td>0.754393</td>\n",
       "      <td>0.588967</td>\n",
       "    </tr>\n",
       "    <tr>\n",
       "      <th>min</th>\n",
       "      <td>0.000000</td>\n",
       "      <td>0.340000</td>\n",
       "      <td>0.500000</td>\n",
       "      <td>4.340000</td>\n",
       "    </tr>\n",
       "    <tr>\n",
       "      <th>25%</th>\n",
       "      <td>9.000000</td>\n",
       "      <td>9.290000</td>\n",
       "      <td>8.830000</td>\n",
       "      <td>8.710000</td>\n",
       "    </tr>\n",
       "    <tr>\n",
       "      <th>50%</th>\n",
       "      <td>18.000000</td>\n",
       "      <td>9.670000</td>\n",
       "      <td>9.330000</td>\n",
       "      <td>9.120000</td>\n",
       "    </tr>\n",
       "    <tr>\n",
       "      <th>75%</th>\n",
       "      <td>31.000000</td>\n",
       "      <td>9.880000</td>\n",
       "      <td>9.670000</td>\n",
       "      <td>9.540000</td>\n",
       "    </tr>\n",
       "    <tr>\n",
       "      <th>max</th>\n",
       "      <td>306.000000</td>\n",
       "      <td>10.000000</td>\n",
       "      <td>10.000000</td>\n",
       "      <td>10.000000</td>\n",
       "    </tr>\n",
       "  </tbody>\n",
       "</table>\n",
       "</div>"
      ],
      "text/plain": [
       "       qtd_discentes  postura_profissional_media  atuacao_profissional_media  \\\n",
       "count  118158.000000               118158.000000               118158.000000   \n",
       "mean       22.174495                    9.452506                    9.146739   \n",
       "std        17.003041                    0.682489                    0.754393   \n",
       "min         0.000000                    0.340000                    0.500000   \n",
       "25%         9.000000                    9.290000                    8.830000   \n",
       "50%        18.000000                    9.670000                    9.330000   \n",
       "75%        31.000000                    9.880000                    9.670000   \n",
       "max       306.000000                   10.000000                   10.000000   \n",
       "\n",
       "       autoavaliacao_aluno_media  \n",
       "count              102783.000000  \n",
       "mean                    9.083089  \n",
       "std                     0.588967  \n",
       "min                     4.340000  \n",
       "25%                     8.710000  \n",
       "50%                     9.120000  \n",
       "75%                     9.540000  \n",
       "max                    10.000000  "
      ]
     },
     "execution_count": 15,
     "metadata": {},
     "output_type": "execute_result"
    }
   ],
   "source": [
    "dados1.describe()"
   ]
  },
  {
   "cell_type": "code",
   "execution_count": 16,
   "id": "1eb5cfd3",
   "metadata": {},
   "outputs": [
    {
     "name": "stdout",
     "output_type": "stream",
     "text": [
      "                            id_docente  id_turma       ano   periodo  \\\n",
      "id_docente                    1.000000  0.064773  0.076859 -0.003932   \n",
      "id_turma                      0.064773  1.000000  0.728138  0.037007   \n",
      "ano                           0.076859  0.728138  1.000000 -0.130669   \n",
      "periodo                      -0.003932  0.037007 -0.130669  1.000000   \n",
      "qtd_discentes                 0.002032 -0.049586 -0.039697 -0.019424   \n",
      "postura_profissional_media    0.094720  0.077650  0.007323  0.005041   \n",
      "postura_profissional_DP      -0.097055 -0.076495  0.016971 -0.003857   \n",
      "atuacao_profissional_media    0.150091  0.110180  0.079568  0.020824   \n",
      "atuacao_profissional_DP      -0.150296 -0.114907 -0.097949 -0.027398   \n",
      "autoavaliacao_aluno_media     0.064259  0.102520  0.106667  0.023148   \n",
      "autoavaliacao_aluno_DP       -0.068937 -0.062256 -0.050750 -0.045714   \n",
      "\n",
      "                            qtd_discentes  postura_profissional_media  \\\n",
      "id_docente                       0.002032                    0.094720   \n",
      "id_turma                        -0.049586                    0.077650   \n",
      "ano                             -0.039697                    0.007323   \n",
      "periodo                         -0.019424                    0.005041   \n",
      "qtd_discentes                    1.000000                   -0.132268   \n",
      "postura_profissional_media      -0.132268                    1.000000   \n",
      "postura_profissional_DP          0.199203                   -0.868179   \n",
      "atuacao_profissional_media      -0.198276                    0.687586   \n",
      "atuacao_profissional_DP          0.245996                   -0.562060   \n",
      "autoavaliacao_aluno_media       -0.359126                    0.489315   \n",
      "autoavaliacao_aluno_DP           0.384938                   -0.320758   \n",
      "\n",
      "                            postura_profissional_DP  \\\n",
      "id_docente                                -0.097055   \n",
      "id_turma                                  -0.076495   \n",
      "ano                                        0.016971   \n",
      "periodo                                   -0.003857   \n",
      "qtd_discentes                              0.199203   \n",
      "postura_profissional_media                -0.868179   \n",
      "postura_profissional_DP                    1.000000   \n",
      "atuacao_profissional_media                -0.650079   \n",
      "atuacao_profissional_DP                    0.633543   \n",
      "autoavaliacao_aluno_media                 -0.461628   \n",
      "autoavaliacao_aluno_DP                     0.367382   \n",
      "\n",
      "                            atuacao_profissional_media  \\\n",
      "id_docente                                    0.150091   \n",
      "id_turma                                      0.110180   \n",
      "ano                                           0.079568   \n",
      "periodo                                       0.020824   \n",
      "qtd_discentes                                -0.198276   \n",
      "postura_profissional_media                    0.687586   \n",
      "postura_profissional_DP                      -0.650079   \n",
      "atuacao_profissional_media                    1.000000   \n",
      "atuacao_profissional_DP                      -0.882137   \n",
      "autoavaliacao_aluno_media                     0.594034   \n",
      "autoavaliacao_aluno_DP                       -0.493153   \n",
      "\n",
      "                            atuacao_profissional_DP  \\\n",
      "id_docente                                -0.150296   \n",
      "id_turma                                  -0.114907   \n",
      "ano                                       -0.097949   \n",
      "periodo                                   -0.027398   \n",
      "qtd_discentes                              0.245996   \n",
      "postura_profissional_media                -0.562060   \n",
      "postura_profissional_DP                    0.633543   \n",
      "atuacao_profissional_media                -0.882137   \n",
      "atuacao_profissional_DP                    1.000000   \n",
      "autoavaliacao_aluno_media                 -0.547594   \n",
      "autoavaliacao_aluno_DP                     0.536198   \n",
      "\n",
      "                            autoavaliacao_aluno_media  autoavaliacao_aluno_DP  \n",
      "id_docente                                   0.064259               -0.068937  \n",
      "id_turma                                     0.102520               -0.062256  \n",
      "ano                                          0.106667               -0.050750  \n",
      "periodo                                      0.023148               -0.045714  \n",
      "qtd_discentes                               -0.359126                0.384938  \n",
      "postura_profissional_media                   0.489315               -0.320758  \n",
      "postura_profissional_DP                     -0.461628                0.367382  \n",
      "atuacao_profissional_media                   0.594034               -0.493153  \n",
      "atuacao_profissional_DP                     -0.547594                0.536198  \n",
      "autoavaliacao_aluno_media                    1.000000               -0.862580  \n",
      "autoavaliacao_aluno_DP                      -0.862580                1.000000  \n"
     ]
    }
   ],
   "source": [
    "print(dados.corr())"
   ]
  },
  {
   "cell_type": "code",
   "execution_count": 17,
   "id": "bf047fca",
   "metadata": {},
   "outputs": [
    {
     "data": {
      "text/html": [
       "<div>\n",
       "<style scoped>\n",
       "    .dataframe tbody tr th:only-of-type {\n",
       "        vertical-align: middle;\n",
       "    }\n",
       "\n",
       "    .dataframe tbody tr th {\n",
       "        vertical-align: top;\n",
       "    }\n",
       "\n",
       "    .dataframe thead th {\n",
       "        text-align: right;\n",
       "    }\n",
       "</style>\n",
       "<table border=\"1\" class=\"dataframe\">\n",
       "  <thead>\n",
       "    <tr style=\"text-align: right;\">\n",
       "      <th></th>\n",
       "      <th>qtd_discentes</th>\n",
       "      <th>postura_profissional_media</th>\n",
       "      <th>atuacao_profissional_media</th>\n",
       "      <th>autoavaliacao_aluno_media</th>\n",
       "    </tr>\n",
       "  </thead>\n",
       "  <tbody>\n",
       "    <tr>\n",
       "      <th>count</th>\n",
       "      <td>118158.000000</td>\n",
       "      <td>118158.000000</td>\n",
       "      <td>118158.000000</td>\n",
       "      <td>102783.000000</td>\n",
       "    </tr>\n",
       "    <tr>\n",
       "      <th>mean</th>\n",
       "      <td>22.174495</td>\n",
       "      <td>9.452506</td>\n",
       "      <td>9.146739</td>\n",
       "      <td>9.083089</td>\n",
       "    </tr>\n",
       "    <tr>\n",
       "      <th>std</th>\n",
       "      <td>17.003041</td>\n",
       "      <td>0.682489</td>\n",
       "      <td>0.754393</td>\n",
       "      <td>0.588967</td>\n",
       "    </tr>\n",
       "    <tr>\n",
       "      <th>min</th>\n",
       "      <td>0.000000</td>\n",
       "      <td>0.340000</td>\n",
       "      <td>0.500000</td>\n",
       "      <td>4.340000</td>\n",
       "    </tr>\n",
       "    <tr>\n",
       "      <th>25%</th>\n",
       "      <td>9.000000</td>\n",
       "      <td>9.290000</td>\n",
       "      <td>8.830000</td>\n",
       "      <td>8.710000</td>\n",
       "    </tr>\n",
       "    <tr>\n",
       "      <th>50%</th>\n",
       "      <td>18.000000</td>\n",
       "      <td>9.670000</td>\n",
       "      <td>9.330000</td>\n",
       "      <td>9.120000</td>\n",
       "    </tr>\n",
       "    <tr>\n",
       "      <th>75%</th>\n",
       "      <td>31.000000</td>\n",
       "      <td>9.880000</td>\n",
       "      <td>9.670000</td>\n",
       "      <td>9.540000</td>\n",
       "    </tr>\n",
       "    <tr>\n",
       "      <th>max</th>\n",
       "      <td>306.000000</td>\n",
       "      <td>10.000000</td>\n",
       "      <td>10.000000</td>\n",
       "      <td>10.000000</td>\n",
       "    </tr>\n",
       "  </tbody>\n",
       "</table>\n",
       "</div>"
      ],
      "text/plain": [
       "       qtd_discentes  postura_profissional_media  atuacao_profissional_media  \\\n",
       "count  118158.000000               118158.000000               118158.000000   \n",
       "mean       22.174495                    9.452506                    9.146739   \n",
       "std        17.003041                    0.682489                    0.754393   \n",
       "min         0.000000                    0.340000                    0.500000   \n",
       "25%         9.000000                    9.290000                    8.830000   \n",
       "50%        18.000000                    9.670000                    9.330000   \n",
       "75%        31.000000                    9.880000                    9.670000   \n",
       "max       306.000000                   10.000000                   10.000000   \n",
       "\n",
       "       autoavaliacao_aluno_media  \n",
       "count              102783.000000  \n",
       "mean                    9.083089  \n",
       "std                     0.588967  \n",
       "min                     4.340000  \n",
       "25%                     8.710000  \n",
       "50%                     9.120000  \n",
       "75%                     9.540000  \n",
       "max                    10.000000  "
      ]
     },
     "execution_count": 17,
     "metadata": {},
     "output_type": "execute_result"
    }
   ],
   "source": [
    "dados1.describe()"
   ]
  },
  {
   "cell_type": "code",
   "execution_count": 18,
   "id": "15ee2a83",
   "metadata": {},
   "outputs": [],
   "source": [
    "r1= dados.atuacao_profissional_media.corr(dados.qtd_discentes)\n",
    "\n",
    "r2= dados.atuacao_profissional_media.corr(dados.postura_profissional_media)\n",
    "\n",
    "r3= dados.atuacao_profissional_media.corr(dados.autoavaliacao_aluno_media)"
   ]
  },
  {
   "cell_type": "code",
   "execution_count": 19,
   "id": "7ac9dd77",
   "metadata": {},
   "outputs": [
    {
     "name": "stdout",
     "output_type": "stream",
     "text": [
      "-0.19827627762727265\n",
      "0.687586435561898\n",
      "0.594033681499128\n"
     ]
    }
   ],
   "source": [
    "print(r1)\n",
    "print(r2)\n",
    "print(r3)"
   ]
  },
  {
   "cell_type": "code",
   "execution_count": 20,
   "id": "f75760f8",
   "metadata": {},
   "outputs": [
    {
     "data": {
      "text/html": [
       "<div>\n",
       "<style scoped>\n",
       "    .dataframe tbody tr th:only-of-type {\n",
       "        vertical-align: middle;\n",
       "    }\n",
       "\n",
       "    .dataframe tbody tr th {\n",
       "        vertical-align: top;\n",
       "    }\n",
       "\n",
       "    .dataframe thead th {\n",
       "        text-align: right;\n",
       "    }\n",
       "</style>\n",
       "<table border=\"1\" class=\"dataframe\">\n",
       "  <thead>\n",
       "    <tr style=\"text-align: right;\">\n",
       "      <th></th>\n",
       "      <th>qtd_discentes</th>\n",
       "      <th>postura_profissional_media</th>\n",
       "      <th>atuacao_profissional_media</th>\n",
       "      <th>autoavaliacao_aluno_media</th>\n",
       "    </tr>\n",
       "  </thead>\n",
       "  <tbody>\n",
       "    <tr>\n",
       "      <th>qtd_discentes</th>\n",
       "      <td>1.000000</td>\n",
       "      <td>-0.132268</td>\n",
       "      <td>-0.198276</td>\n",
       "      <td>-0.359126</td>\n",
       "    </tr>\n",
       "    <tr>\n",
       "      <th>postura_profissional_media</th>\n",
       "      <td>-0.132268</td>\n",
       "      <td>1.000000</td>\n",
       "      <td>0.687586</td>\n",
       "      <td>0.489315</td>\n",
       "    </tr>\n",
       "    <tr>\n",
       "      <th>atuacao_profissional_media</th>\n",
       "      <td>-0.198276</td>\n",
       "      <td>0.687586</td>\n",
       "      <td>1.000000</td>\n",
       "      <td>0.594034</td>\n",
       "    </tr>\n",
       "    <tr>\n",
       "      <th>autoavaliacao_aluno_media</th>\n",
       "      <td>-0.359126</td>\n",
       "      <td>0.489315</td>\n",
       "      <td>0.594034</td>\n",
       "      <td>1.000000</td>\n",
       "    </tr>\n",
       "  </tbody>\n",
       "</table>\n",
       "</div>"
      ],
      "text/plain": [
       "                            qtd_discentes  postura_profissional_media  \\\n",
       "qtd_discentes                    1.000000                   -0.132268   \n",
       "postura_profissional_media      -0.132268                    1.000000   \n",
       "atuacao_profissional_media      -0.198276                    0.687586   \n",
       "autoavaliacao_aluno_media       -0.359126                    0.489315   \n",
       "\n",
       "                            atuacao_profissional_media  \\\n",
       "qtd_discentes                                -0.198276   \n",
       "postura_profissional_media                    0.687586   \n",
       "atuacao_profissional_media                    1.000000   \n",
       "autoavaliacao_aluno_media                     0.594034   \n",
       "\n",
       "                            autoavaliacao_aluno_media  \n",
       "qtd_discentes                               -0.359126  \n",
       "postura_profissional_media                   0.489315  \n",
       "atuacao_profissional_media                   0.594034  \n",
       "autoavaliacao_aluno_media                    1.000000  "
      ]
     },
     "execution_count": 20,
     "metadata": {},
     "output_type": "execute_result"
    }
   ],
   "source": [
    "dados1.corr(method='pearson')"
   ]
  },
  {
   "cell_type": "code",
   "execution_count": 21,
   "id": "bb83a717",
   "metadata": {},
   "outputs": [
    {
     "data": {
      "image/png": "[encoded data removed]",
      "text/plain": [
       "<Figure size 432x288 with 1 Axes>"
      ]
     },
     "metadata": {
      "needs_background": "light"
     },
     "output_type": "display_data"
    }
   ],
   "source": [
    "plt.scatter(dados1['atuacao_profissional_media'], dados1['qtd_discentes'],color='red', label='N° Discentes por turma')\n",
    "plt.scatter(dados1['atuacao_profissional_media'], dados1['postura_profissional_media'], color='blue', label='Postura Profissional')\n",
    "plt.scatter(dados1['atuacao_profissional_media'], dados1['autoavaliacao_aluno_media'], color='green', label='Autoavaliação do aluno')\n",
    "plt.legend()\n",
    "plt.title('Relação entre Atuação profissional do docente entre outras variáveis')\n",
    "plt.show()"
   ]
  },
  {
   "cell_type": "code",
   "execution_count": 22,
   "id": "8f9cf4af",
   "metadata": {},
   "outputs": [
    {
     "data": {
      "text/plain": [
       "<AxesSubplot:ylabel='Frequency'>"
      ]
     },
     "execution_count": 22,
     "metadata": {},
     "output_type": "execute_result"
    },
    {
     "data": {
      "image/png": "[encoded data removed]",
      "text/plain": [
       "<Figure size 432x288 with 1 Axes>"
      ]
     },
     "metadata": {
      "needs_background": "light"
     },
     "output_type": "display_data"
    }
   ],
   "source": [
    "dados1[\"atuacao_profissional_media\"].plot(kind = 'hist')"
   ]
  },
  {
   "cell_type": "code",
   "execution_count": 35,
   "id": "636e8167",
   "metadata": {},
   "outputs": [
    {
     "data": {
      "text/plain": [
       "<AxesSubplot:ylabel='Frequency'>"
      ]
     },
     "execution_count": 35,
     "metadata": {},
     "output_type": "execute_result"
    },
    {
     "data": {
      "image/png": "[encoded data removed]",
      "text/plain": [
       "<Figure size 432x288 with 1 Axes>"
      ]
     },
     "metadata": {
      "needs_background": "light"
     },
     "output_type": "display_data"
    }
   ],
   "source": [
    "dados1[\"postura_profissional_media\"].plot(kind = 'hist')"
   ]
  },
  {
   "cell_type": "code",
   "execution_count": 36,
   "id": "28d2f4c2",
   "metadata": {},
   "outputs": [
    {
     "data": {
      "text/plain": [
       "<AxesSubplot:ylabel='Frequency'>"
      ]
     },
     "execution_count": 36,
     "metadata": {},
     "output_type": "execute_result"
    },
    {
     "data": {
      "image/png": "[encoded data removed]",
      "text/plain": [
       "<Figure size 432x288 with 1 Axes>"
      ]
     },
     "metadata": {
      "needs_background": "light"
     },
     "output_type": "display_data"
    }
   ],
   "source": [
    "dados1[\"autoavaliacao_aluno_media\"].plot(kind = 'hist')"
   ]
  },
  {
   "cell_type": "code",
   "execution_count": 23,
   "id": "62febb3b",
   "metadata": {},
   "outputs": [
    {
     "data": {
      "text/plain": [
       "<AxesSubplot:xlabel='qtd_discentes'>"
      ]
     },
     "execution_count": 23,
     "metadata": {},
     "output_type": "execute_result"
    },
    {
     "data": {
      "image/png": "[encoded data removed]",
      "text/plain": [
       "<Figure size 432x288 with 1 Axes>"
      ]
     },
     "metadata": {
      "needs_background": "light"
     },
     "output_type": "display_data"
    }
   ],
   "source": [
    "dados1.plot(x= 'qtd_discentes', y='atuacao_profissional_media', alpha=0.5)"
   ]
  },
  {
   "cell_type": "code",
   "execution_count": 24,
   "id": "2450782f",
   "metadata": {},
   "outputs": [
    {
     "data": {
      "text/plain": [
       "array([<AxesSubplot:>, <AxesSubplot:>, <AxesSubplot:>, <AxesSubplot:>],\n",
       "      dtype=object)"
      ]
     },
     "execution_count": 24,
     "metadata": {},
     "output_type": "execute_result"
    },
    {
     "data": {
      "image/png": "[encoded data removed]",
      "text/plain": [
       "<Figure size 864x288 with 4 Axes>"
      ]
     },
     "metadata": {
      "needs_background": "light"
     },
     "output_type": "display_data"
    }
   ],
   "source": [
    "dados1.plot.area(figsize=(12, 4), subplots=True)"
   ]
  },
  {
   "cell_type": "code",
   "execution_count": 25,
   "id": "7413524d",
   "metadata": {},
   "outputs": [
    {
     "data": {
      "text/html": [
       "<div>\n",
       "<style scoped>\n",
       "    .dataframe tbody tr th:only-of-type {\n",
       "        vertical-align: middle;\n",
       "    }\n",
       "\n",
       "    .dataframe tbody tr th {\n",
       "        vertical-align: top;\n",
       "    }\n",
       "\n",
       "    .dataframe thead th {\n",
       "        text-align: right;\n",
       "    }\n",
       "</style>\n",
       "<table border=\"1\" class=\"dataframe\">\n",
       "  <thead>\n",
       "    <tr style=\"text-align: right;\">\n",
       "      <th></th>\n",
       "      <th>qtd_discentes</th>\n",
       "      <th>postura_profissional_media</th>\n",
       "      <th>atuacao_profissional_media</th>\n",
       "      <th>autoavaliacao_aluno_media</th>\n",
       "    </tr>\n",
       "  </thead>\n",
       "  <tbody>\n",
       "    <tr>\n",
       "      <th>0</th>\n",
       "      <td>14</td>\n",
       "      <td>9.17</td>\n",
       "      <td>8.13</td>\n",
       "      <td>7.61</td>\n",
       "    </tr>\n",
       "    <tr>\n",
       "      <th>1</th>\n",
       "      <td>15</td>\n",
       "      <td>9.44</td>\n",
       "      <td>7.17</td>\n",
       "      <td>8.71</td>\n",
       "    </tr>\n",
       "    <tr>\n",
       "      <th>2</th>\n",
       "      <td>38</td>\n",
       "      <td>9.19</td>\n",
       "      <td>6.77</td>\n",
       "      <td>8.12</td>\n",
       "    </tr>\n",
       "    <tr>\n",
       "      <th>3</th>\n",
       "      <td>13</td>\n",
       "      <td>9.06</td>\n",
       "      <td>7.68</td>\n",
       "      <td>7.62</td>\n",
       "    </tr>\n",
       "    <tr>\n",
       "      <th>4</th>\n",
       "      <td>24</td>\n",
       "      <td>9.27</td>\n",
       "      <td>8.45</td>\n",
       "      <td>8.48</td>\n",
       "    </tr>\n",
       "    <tr>\n",
       "      <th>...</th>\n",
       "      <td>...</td>\n",
       "      <td>...</td>\n",
       "      <td>...</td>\n",
       "      <td>...</td>\n",
       "    </tr>\n",
       "    <tr>\n",
       "      <th>118153</th>\n",
       "      <td>7</td>\n",
       "      <td>9.97</td>\n",
       "      <td>9.59</td>\n",
       "      <td>NaN</td>\n",
       "    </tr>\n",
       "    <tr>\n",
       "      <th>118154</th>\n",
       "      <td>7</td>\n",
       "      <td>8.48</td>\n",
       "      <td>8.52</td>\n",
       "      <td>NaN</td>\n",
       "    </tr>\n",
       "    <tr>\n",
       "      <th>118155</th>\n",
       "      <td>7</td>\n",
       "      <td>8.37</td>\n",
       "      <td>8.28</td>\n",
       "      <td>NaN</td>\n",
       "    </tr>\n",
       "    <tr>\n",
       "      <th>118156</th>\n",
       "      <td>8</td>\n",
       "      <td>9.88</td>\n",
       "      <td>9.60</td>\n",
       "      <td>NaN</td>\n",
       "    </tr>\n",
       "    <tr>\n",
       "      <th>118157</th>\n",
       "      <td>7</td>\n",
       "      <td>9.63</td>\n",
       "      <td>9.19</td>\n",
       "      <td>NaN</td>\n",
       "    </tr>\n",
       "  </tbody>\n",
       "</table>\n",
       "<p>118158 rows × 4 columns</p>\n",
       "</div>"
      ],
      "text/plain": [
       "        qtd_discentes  postura_profissional_media  atuacao_profissional_media  \\\n",
       "0                  14                        9.17                        8.13   \n",
       "1                  15                        9.44                        7.17   \n",
       "2                  38                        9.19                        6.77   \n",
       "3                  13                        9.06                        7.68   \n",
       "4                  24                        9.27                        8.45   \n",
       "...               ...                         ...                         ...   \n",
       "118153              7                        9.97                        9.59   \n",
       "118154              7                        8.48                        8.52   \n",
       "118155              7                        8.37                        8.28   \n",
       "118156              8                        9.88                        9.60   \n",
       "118157              7                        9.63                        9.19   \n",
       "\n",
       "        autoavaliacao_aluno_media  \n",
       "0                            7.61  \n",
       "1                            8.71  \n",
       "2                            8.12  \n",
       "3                            7.62  \n",
       "4                            8.48  \n",
       "...                           ...  \n",
       "118153                        NaN  \n",
       "118154                        NaN  \n",
       "118155                        NaN  \n",
       "118156                        NaN  \n",
       "118157                        NaN  \n",
       "\n",
       "[118158 rows x 4 columns]"
      ]
     },
     "execution_count": 25,
     "metadata": {},
     "output_type": "execute_result"
    }
   ],
   "source": [
    "dados1"
   ]
  },
  {
   "cell_type": "code",
   "execution_count": 26,
   "id": "7418b718",
   "metadata": {},
   "outputs": [
    {
     "data": {
      "text/plain": [
       "0         8.13\n",
       "1         7.17\n",
       "2         6.77\n",
       "3         7.68\n",
       "4         8.45\n",
       "          ... \n",
       "118153    9.59\n",
       "118154    8.52\n",
       "118155    8.28\n",
       "118156    9.60\n",
       "118157    9.19\n",
       "Name: atuacao_profissional_media, Length: 118158, dtype: float64"
      ]
     },
     "execution_count": 26,
     "metadata": {},
     "output_type": "execute_result"
    }
   ],
   "source": [
    "dados.atuacao_profissional_media"
   ]
  },
  {
   "cell_type": "code",
   "execution_count": 27,
   "id": "858a8101",
   "metadata": {},
   "outputs": [
    {
     "data": {
      "image/png": "[encoded data removed]",
      "text/plain": [
       "<Figure size 432x288 with 1 Axes>"
      ]
     },
     "metadata": {
      "needs_background": "light"
     },
     "output_type": "display_data"
    }
   ],
   "source": [
    "# define os dados \n",
    "x = np.array(dados1[\"qtd_discentes\"]) \n",
    "y = np.array(dados1[\"atuacao_profissional_media\"]) \n",
    "plt.plot(x, y, 'bo')\n",
    "plt.xlabel(\"x\", fontsize = 15)\n",
    "plt.ylabel(\"y\", fontsize = 15)\n",
    "plt.show(True)  "
   ]
  },
  {
   "cell_type": "code",
   "execution_count": 28,
   "id": "6bcdb5df",
   "metadata": {},
   "outputs": [],
   "source": [
    "from statistics import variance \n",
    "import math \n",
    "\n",
    "def estimate_coef(x, y): \n",
    "    # número de observações/pontos\n",
    "    n = np.size(x) \n",
    "  \n",
    "    # médias de x e y\n",
    "    m_x, m_y = np.mean(x), np.mean(y) \n",
    "  \n",
    "    # calculating cross-deviation and deviation about x \n",
    "    SS_xy = np.sum(y*x) - n*m_y*m_x \n",
    "    SS_xx = np.sum(x*x) - n*m_x*m_x \n",
    "  \n",
    "    # calcula os coeficientes de regressão\n",
    "    b_1 = SS_xy / SS_xx \n",
    "    b_0 = m_y - b_1*m_x \n",
    "  \n",
    "    return(b_0, b_1) \n",
    "\n",
    "# função para mostrar os dados e o ajuste linear\n",
    "def plot_regression_line(x, y, b): \n",
    "    # mostra os dados\n",
    "    plt.scatter(x, y, color = \"b\", marker = \"o\", s = 50) \n",
    "  \n",
    "    # prediz os valores\n",
    "    y_pred = b[0] + b[1]*x \n",
    "  \n",
    "    # mostra a reta de regressão\n",
    "    plt.plot(x, y_pred, color = \"r\") \n",
    "  \n",
    "    plt.xlabel('x', fontsize = 15) \n",
    "    plt.ylabel('y', fontsize = 15) \n",
    "    plt.show(True) "
   ]
  },
  {
   "cell_type": "code",
   "execution_count": 29,
   "id": "fd7d5218",
   "metadata": {},
   "outputs": [
    {
     "name": "stdout",
     "output_type": "stream",
     "text": [
      "Estimated coefficients:\n",
      "b_0 = 9.341810887561747  \n",
      "b_1 = -0.008797142717979265\n"
     ]
    },
    {
     "data": {
      "image/png": "[encoded data removed]",
      "text/plain": [
       "<Figure size 432x288 with 1 Axes>"
      ]
     },
     "metadata": {
      "needs_background": "light"
     },
     "output_type": "display_data"
    }
   ],
   "source": [
    "import numpy as np\n",
    "\n",
    "# estima os coeficientes\n",
    "b = estimate_coef(x, y) \n",
    "print(\"Estimated coefficients:\\nb_0 = {}  \\nb_1 = {}\".format(b[0], b[1])) \n",
    "  \n",
    "# mostra o ajuste linear\n",
    "plot_regression_line(x, y, b) "
   ]
  },
  {
   "cell_type": "code",
   "execution_count": 30,
   "id": "dc51a734",
   "metadata": {},
   "outputs": [
    {
     "name": "stdout",
     "output_type": "stream",
     "text": [
      "RSE: 0.7394182707176781\n"
     ]
    }
   ],
   "source": [
    "#funcao que calcula o RSE\n",
    "def RSE(x,y,b):\n",
    "    n = len(y)\n",
    "    RSE = 0\n",
    "    for i in range(0,n):\n",
    "        y_pred = b[0]+ x[i]*b[1] # valor predito\n",
    "        RSE = RSE + (y[i]-y_pred)**2\n",
    "    RSE = math.sqrt(RSE/(n-2))\n",
    "    return RSE\n",
    "print('RSE:', RSE(x,y,b))"
   ]
  },
  {
   "cell_type": "code",
   "execution_count": 31,
   "id": "1904cbae",
   "metadata": {},
   "outputs": [
    {
     "name": "stdout",
     "output_type": "stream",
     "text": [
      "R2: 0.03931348226985931\n"
     ]
    }
   ],
   "source": [
    "def R2(x,y,b):\n",
    "    n = len(y)\n",
    "    c1 = 0\n",
    "    c2 = 0\n",
    "    ym = np.mean(y)\n",
    "    for i in range(0,n):\n",
    "        y_pred = b[0]+ x[i]*b[1] # valor predito\n",
    "        c1 = c1 + (y[i]-y_pred)**2\n",
    "        c2 = c2 + (y[i]-ym)**2\n",
    "    R2 = 1 - c1/c2\n",
    "    return R2\n",
    "\n",
    "print('R2:', R2(x,y,b))"
   ]
  },
  {
   "cell_type": "code",
   "execution_count": 32,
   "id": "c37606ae",
   "metadata": {},
   "outputs": [],
   "source": [
    "#testando as hipoteses"
   ]
  },
  {
   "cell_type": "code",
   "execution_count": 33,
   "id": "a34081ac",
   "metadata": {},
   "outputs": [],
   "source": [
    "# from sklearn.linear_model import LinearRegression\n",
    "# x= x.reshape(-1, 1)\n",
    "# reg = LinearRegression().fit(x, y)\n",
    "\n",
    "# y_predicted = reg.predict(x)\n",
    "# plt.plot(x, y, 'o', color='black');\n",
    "# plt.plot(x, y_predicted, color='blue');\n",
    "# plt.title('Actuals Vs Regression Line');\n",
    "\n",
    "# print(\"b0: {0}\".format(reg.intercept_))\n",
    "# print(\"b1: {0}\".format(reg.coef_))\n",
    "\n"
   ]
  },
  {
   "cell_type": "code",
   "execution_count": 34,
   "id": "5bfdb006",
   "metadata": {},
   "outputs": [
    {
     "name": "stdout",
     "output_type": "stream",
     "text": [
      "                                 OLS Regression Results                                \n",
      "=======================================================================================\n",
      "Dep. Variable:                      y   R-squared (uncentered):                   0.610\n",
      "Model:                            OLS   Adj. R-squared (uncentered):              0.610\n",
      "Method:                 Least Squares   F-statistic:                          1.847e+05\n",
      "Date:                Fri, 21 Jan 2022   Prob (F-statistic):                        0.00\n",
      "Time:                        11:39:13   Log-Likelihood:                     -3.7398e+05\n",
      "No. Observations:              118158   AIC:                                  7.480e+05\n",
      "Df Residuals:                  118157   BIC:                                  7.480e+05\n",
      "Df Model:                           1                                                  \n",
      "Covariance Type:            nonrobust                                                  \n",
      "==============================================================================\n",
      "                 coef    std err          t      P>|t|      [0.025      0.975]\n",
      "------------------------------------------------------------------------------\n",
      "x1             0.2565      0.001    429.804      0.000       0.255       0.258\n",
      "==============================================================================\n",
      "Omnibus:                    67236.388   Durbin-Watson:                   0.679\n",
      "Prob(Omnibus):                  0.000   Jarque-Bera (JB):          1473660.904\n",
      "Skew:                          -2.305   Prob(JB):                         0.00\n",
      "Kurtosis:                      19.676   Cond. No.                         1.00\n",
      "==============================================================================\n",
      "\n",
      "Notes:\n",
      "[1] R² is computed without centering (uncentered) since the model does not contain a constant.\n",
      "[2] Standard Errors assume that the covariance matrix of the errors is correctly specified.\n"
     ]
    }
   ],
   "source": [
    "import statsmodels.api as sm\n",
    "est = sm.OLS(y, x)\n",
    "est2 = est.fit()\n",
    "print(est2.summary())"
   ]
  },
  {
   "cell_type": "code",
   "execution_count": null,
   "id": "69dd90c2",
   "metadata": {},
   "outputs": [],
   "source": []
  }
 ],
 "metadata": {
  "kernelspec": {
   "display_name": "Python 3",
   "language": "python",
   "name": "python3"
  },
  "language_info": {
   "codemirror_mode": {
    "name": "ipython",
    "version": 3
   },
   "file_extension": ".py",
   "mimetype": "text/x-python",
   "name": "python",
   "nbconvert_exporter": "python",
   "pygments_lexer": "ipython3",
   "version": "3.8.8"
  }
 },
 "nbformat": 4,
 "nbformat_minor": 5
}
